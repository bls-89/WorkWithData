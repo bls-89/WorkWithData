{
 "cells": [
  {
   "cell_type": "markdown",
   "metadata": {},
   "source": [
    "a) Удаление элементов на четных позициях из списка:"
   ]
  },
  {
   "cell_type": "code",
   "execution_count": null,
   "metadata": {},
   "outputs": [],
   "source": [
    "def remove_even_index_elements(lst):\n",
    "    return [lst[i] for i in range(len(lst)) if i % 2 != 0]\n"
   ]
  },
  {
   "cell_type": "markdown",
   "metadata": {},
   "source": [
    "b) Нахождение слов с более чем тремя гласными буквами:"
   ]
  },
  {
   "cell_type": "code",
   "execution_count": null,
   "metadata": {},
   "outputs": [],
   "source": [
    "def find_words_with_three_vowels(words):\n",
    "    vowels = set(\"aeiouAEIOU\")\n",
    "    return [word for word in words if sum(1 for char in word if char in vowels) > 3]\n"
   ]
  },
  {
   "cell_type": "markdown",
   "metadata": {},
   "source": [
    "c) Нахождение второго по величине элемента в списке:"
   ]
  },
  {
   "cell_type": "code",
   "execution_count": null,
   "metadata": {},
   "outputs": [],
   "source": [
    "def find_second_largest(lst):\n",
    "    lst = list(set(lst))  # удаляем дубликаты\n",
    "    lst.sort()  # сортируем список\n",
    "    return lst[-2]  # возвращаем второй по величине элемент\n"
   ]
  },
  {
   "cell_type": "markdown",
   "metadata": {},
   "source": [
    "d) Удаление дубликатов из списка:"
   ]
  },
  {
   "cell_type": "code",
   "execution_count": null,
   "metadata": {},
   "outputs": [],
   "source": [
    "def remove_duplicates(lst):\n",
    "    return list(set(lst))"
   ]
  },
  {
   "cell_type": "markdown",
   "metadata": {},
   "source": [
    "e) Чтение данных из CSV-файла и создание словаря:"
   ]
  },
  {
   "cell_type": "code",
   "execution_count": null,
   "metadata": {},
   "outputs": [],
   "source": [
    "import csv\n",
    "\n",
    "def create_dict_from_csv(file_name):\n",
    "    with open(file_name, 'r') as file:\n",
    "        reader = csv.DictReader(file)\n",
    "        data_dict = {row['Name']: {'Gender': row['Gender'], 'Age': row['Age'], 'Salary': row['Salary']} for row in reader}\n",
    "    return data_dict"
   ]
  },
  {
   "cell_type": "markdown",
   "metadata": {},
   "source": [
    "f) Вывод всех подстрок длиной не менее трех символов:"
   ]
  },
  {
   "cell_type": "code",
   "execution_count": 1,
   "metadata": {},
   "outputs": [],
   "source": [
    "def find_substrings(s):\n",
    "    return [s[i: j] for i in range(len(s)) for j in range(i + 3, len(s) + 1)]"
   ]
  }
 ],
 "metadata": {
  "kernelspec": {
   "display_name": "base",
   "language": "python",
   "name": "python3"
  },
  "language_info": {
   "codemirror_mode": {
    "name": "ipython",
    "version": 3
   },
   "file_extension": ".py",
   "mimetype": "text/x-python",
   "name": "python",
   "nbconvert_exporter": "python",
   "pygments_lexer": "ipython3",
   "version": "3.11.4"
  }
 },
 "nbformat": 4,
 "nbformat_minor": 2
}
